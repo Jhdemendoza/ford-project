{
 "cells": [
  {
   "cell_type": "code",
   "execution_count": 10,
   "metadata": {},
   "outputs": [],
   "source": [
    "import sys\n",
    "\n",
    "from google.cloud import automl_v1beta1\n",
    "from google.cloud.automl_v1beta1.proto import service_pb2"
   ]
  },
  {
   "cell_type": "code",
   "execution_count": 11,
   "metadata": {},
   "outputs": [],
   "source": [
    "def get_prediction(content, project_id, model_id):\n",
    "    prediction_client = automl_v1beta1.PredictionServiceClient()\n",
    "\n",
    "    name = 'projects/{}/locations/us-central1/models/{}'.format(project_id, model_id)\n",
    "    payload = {'image': {'image_bytes': content }}\n",
    "    params = {}\n",
    "    request = prediction_client.predict(name, payload, params)\n",
    "    return request  # waits till request is returned"
   ]
  },
  {
   "cell_type": "code",
   "execution_count": 16,
   "metadata": {},
   "outputs": [],
   "source": [
    "project_id = 'ford-gas-gcp'\n",
    "model_id = 'IOD1280900260033462272'\n",
    "file_path = './photos/reduced-size/IMG_20200225_123846.jpg'"
   ]
  },
  {
   "cell_type": "code",
   "execution_count": 17,
   "metadata": {},
   "outputs": [
    {
     "name": "stdout",
     "output_type": "stream",
     "text": [
      "payload {\n",
      "  annotation_spec_id: \"3015839448710512640\"\n",
      "  image_object_detection {\n",
      "    bounding_box {\n",
      "      normalized_vertices {\n",
      "        x: 0.387299120426178\n",
      "        y: 0.5166724324226379\n",
      "      }\n",
      "      normalized_vertices {\n",
      "        x: 0.5161222219467163\n",
      "        y: 0.6581142544746399\n",
      "      }\n",
      "    }\n",
      "    score: 0.9975557327270508\n",
      "  }\n",
      "  display_name: \"large_crack\"\n",
      "}\n",
      "\n"
     ]
    }
   ],
   "source": [
    "with open(file_path, 'rb') as ff:\n",
    "    content = ff.read()\n",
    "    print(get_prediction(content, project_id, model_id))"
   ]
  },
  {
   "cell_type": "code",
   "execution_count": 18,
   "metadata": {},
   "outputs": [
    {
     "name": "stdout",
     "output_type": "stream",
     "text": [
      "                  Credentialed Accounts\n",
      "ACTIVE  ACCOUNT\n",
      "*       642403660971-compute@developer.gserviceaccount.com\n",
      "\n",
      "To set the active account, run:\n",
      "    $ gcloud config set account `ACCOUNT`\n",
      "\n"
     ]
    }
   ],
   "source": [
    "!gcloud auth list"
   ]
  },
  {
   "cell_type": "code",
   "execution_count": 19,
   "metadata": {},
   "outputs": [],
   "source": [
    "something = 'hi'"
   ]
  },
  {
   "cell_type": "code",
   "execution_count": 21,
   "metadata": {},
   "outputs": [],
   "source": [
    "a = something.encode('utf-8')"
   ]
  },
  {
   "cell_type": "code",
   "execution_count": 22,
   "metadata": {},
   "outputs": [
    {
     "data": {
      "text/plain": [
       "'hi'"
      ]
     },
     "execution_count": 22,
     "metadata": {},
     "output_type": "execute_result"
    }
   ],
   "source": [
    "a.decode('utf-8')"
   ]
  },
  {
   "cell_type": "code",
   "execution_count": 24,
   "metadata": {},
   "outputs": [
    {
     "ename": "AttributeError",
     "evalue": "'_io.BufferedWriter' object has no attribute 'decode'",
     "output_type": "error",
     "traceback": [
      "\u001b[0;31m---------------------------------------------------------------------------\u001b[0m",
      "\u001b[0;31mAttributeError\u001b[0m                            Traceback (most recent call last)",
      "\u001b[0;32m<ipython-input-24-1958a389d2da>\u001b[0m in \u001b[0;36m<module>\u001b[0;34m\u001b[0m\n\u001b[1;32m      1\u001b[0m \u001b[0mfh\u001b[0m \u001b[0;34m=\u001b[0m \u001b[0mopen\u001b[0m\u001b[0;34m(\u001b[0m\u001b[0;34m\"simple-image.png\"\u001b[0m\u001b[0;34m,\u001b[0m \u001b[0;34m\"wb\"\u001b[0m\u001b[0;34m)\u001b[0m\u001b[0;34m\u001b[0m\u001b[0m\n\u001b[0;32m----> 2\u001b[0;31m \u001b[0mfh\u001b[0m\u001b[0;34m.\u001b[0m\u001b[0mwrite\u001b[0m\u001b[0;34m(\u001b[0m\u001b[0mfh\u001b[0m\u001b[0;34m.\u001b[0m\u001b[0mdecode\u001b[0m\u001b[0;34m(\u001b[0m\u001b[0;34m'base64'\u001b[0m\u001b[0;34m)\u001b[0m\u001b[0;34m)\u001b[0m\u001b[0;34m\u001b[0m\u001b[0m\n\u001b[0m\u001b[1;32m      3\u001b[0m \u001b[0mfh\u001b[0m\u001b[0;34m.\u001b[0m\u001b[0mclose\u001b[0m\u001b[0;34m(\u001b[0m\u001b[0;34m)\u001b[0m\u001b[0;34m\u001b[0m\u001b[0m\n",
      "\u001b[0;31mAttributeError\u001b[0m: '_io.BufferedWriter' object has no attribute 'decode'"
     ]
    }
   ],
   "source": [
    "fh = open(\"simple-image.png\", \"wb\")\n",
    "fh.write(fh.decode('base64'))\n",
    "fh.close()"
   ]
  },
  {
   "cell_type": "code",
   "execution_count": 27,
   "metadata": {},
   "outputs": [],
   "source": [
    "import base64\n",
    "with open(\"simple-image.png\", \"rb\") as imageFile:\n",
    "    str = base64.b64encode(imageFile.read())"
   ]
  },
  {
   "cell_type": "code",
   "execution_count": 28,
   "metadata": {},
   "outputs": [
    {
     "name": "stdout",
     "output_type": "stream",
     "text": [
      "<class 'bytes'>\n"
     ]
    }
   ],
   "source": [
    "print(type(str))"
   ]
  },
  {
   "cell_type": "code",
   "execution_count": 29,
   "metadata": {},
   "outputs": [
    {
     "data": {
      "text/plain": [
       "b'mystring'"
      ]
     },
     "execution_count": 29,
     "metadata": {},
     "output_type": "execute_result"
    }
   ],
   "source": [
    "a = \"mystring\"\n",
    "bytes(a, 'utf8')"
   ]
  },
  {
   "cell_type": "code",
   "execution_count": 31,
   "metadata": {},
   "outputs": [
    {
     "ename": "TypeError",
     "evalue": "a bytes-like object is required, not 'str'",
     "output_type": "error",
     "traceback": [
      "\u001b[0;31m---------------------------------------------------------------------------\u001b[0m",
      "\u001b[0;31mTypeError\u001b[0m                                 Traceback (most recent call last)",
      "\u001b[0;32m<ipython-input-31-b41cf4708661>\u001b[0m in \u001b[0;36m<module>\u001b[0;34m\u001b[0m\n\u001b[0;32m----> 1\u001b[0;31m \u001b[0mio\u001b[0m\u001b[0;34m.\u001b[0m\u001b[0mBytesIO\u001b[0m\u001b[0;34m(\u001b[0m\u001b[0;34m'somethign'\u001b[0m\u001b[0;34m)\u001b[0m\u001b[0;34m\u001b[0m\u001b[0m\n\u001b[0m",
      "\u001b[0;31mTypeError\u001b[0m: a bytes-like object is required, not 'str'"
     ]
    }
   ],
   "source": [
    "io.BytesIO('somethign')"
   ]
  },
  {
   "cell_type": "code",
   "execution_count": 33,
   "metadata": {},
   "outputs": [
    {
     "ename": "SyntaxError",
     "evalue": "EOL while scanning string literal (<ipython-input-33-b5ceb74f432f>, line 1)",
     "output_type": "error",
     "traceback": [
      "\u001b[0;36m  File \u001b[0;32m\"<ipython-input-33-b5ceb74f432f>\"\u001b[0;36m, line \u001b[0;32m1\u001b[0m\n\u001b[0;31m    somebytes = 'iVBORw0KGgoAAAANSUhEUgAAAMgAAADICAYAAACtWK6eAAAMRmlDQ1BJQ0MgUHJv\u001b[0m\n\u001b[0m                                                                                 ^\u001b[0m\n\u001b[0;31mSyntaxError\u001b[0m\u001b[0;31m:\u001b[0m EOL while scanning string literal\n"
     ]
    }
   ],
   "source": [
    "somebytes = 'iVBORw0KGgoAAAANSUhEUgAAAMgAAADICAYAAACtWK6eAAAMRmlDQ1BJQ0MgUHJv\n",
    "      ZmlsZQAASImVVwdYU8kWnltSIbQAAlJCb6II0qWE0CJVOtgISSChhJgQROzIooJr\n",
    "      FxGwoasiCq4FkLViL4ti7w8LKoouumJD5U0K6Or33vve+b6598+Zc/5TMvfeGQA0\n",
    "      azhicQ6qBUCuKF8SGxrISE5JZZAeAwQMBxoAADMOVypmxsREQAwG7/+Ud9ehNZQr\n",
    "      TnKun+f/q2jz+FIuAEgMxOk8KTcX4n0A4CVcsSQfAKIn1FtOyxfL8USIdSUwQYjF\n",
    "      cpypxCVynK7ElQqb+FgWxDsBIKtzOJJMADRaoJ5RwM2EPBo3IXYW8YQiADTJEPtx\n",
    "      BRwexGEQj8jNzZNjaAfs0r/jyfwHZ/oQJ4eTOYSVtSiEHCSUinM40//Pdvxvyc2R\n",
    "      DcawgUNdIAmLldcM+3YzOy9cjtUh7hGlR0VDrAPxByFPYQ8xShXIwhKU9qgxV8qC\n",
    "      PQP6EDvzOEHhEBtDHCLKiYpQ6dMzhCFsiOEKQQuF+ex4le9CvjQ4TsVZI8mLjR7E\n",
    "      GRIWU+XbwJEo4srtT8iyE5gq/psCPnuQ/22RID5JmTNGLRAmRkEM1x2mL82OC1fa\n",
    "      YFZFAlbUoI1EFivP3wpib74oNFDJj03OkITEquwludLBerGFAiE7SoWr8gXxYSqe\n",
    "      nVyOIn8DiFv4ImbCIA9fmhwxWAuPHxSsrB27xBclqOrFOsX5gbEq3zfinBiVPU7l\n",
    "      54TK9RYQG0sL4lS+uF8+XJBKfjxKnB8Tr8wTT8/ijItR5oMXggjAAkGAAWRwpIM8\n",
    "      kAWE7T3NPfCXciYEcIAEZAI+cFJpBj2SFDMieI0DReAlRHwgHfILVMzyQQHUfxnS\n",
    "      Kq9OIEMxW6DwyAZPIM4F4SAH/pYpvERD0RLBY6gR/hSdC3PNgUM+97OOCTURKo1s\n",
    "      kJehOWhJDCYGEcOIIUR73Aj3w33wCHgNgMMF98S9BrP9Zk94QuggPCRcI3QSbk0R\n",
    "      Fkt+qIcBIkEnjBCiqjn9+5pxG8jqhgfivpAfcuP6uBFwwsfASEzcH8Z2g1qWKnN5\n",
    "      9T9y/6OG77qusqM4U1DKMEoAxe5HTw0HDbchFnlPv++QMtf0ob6yhmZ+jM/6rtM8\n",
    "      eA//0RJbiO3FTmPHsLPYQawZMLAjWAt2ATskx0Or6LFiFQ1Gi1Xkkw15hD/F46hi\n",
    "      yjspda537nb+rJzL5xfK34+AlSeeLhFmCvIZTPjm5zPYIu7IEQwXZxdnAOTfEeVr\n",
    "      qvei4vuAGGp/083LA2BszcDAwIFvush7AOx7CQD19jedbRl8HRQAcKaKK5MUKHW4\n",
    "      /EIAVKAJnyhDYAosgR2sxwW4Ax8QAILBOBAN4kEKmAy7LIDrWQKmgZlgHigF5WAZ\n",
    "      WA2qwAawGWwHu8Ae0AwOgmPgFDgPLoFr4A5cPV3gBegF70A/giAkhIbQEUPEDLFG\n",
    "      HBEXxBPxQ4KRCCQWSUHSkExEhMiQmch8pBxZgVQhm5A65HfkAHIMOYt0ILeQB0g3\n",
    "      8gb5hGKoOqqLmqA26CjUE2Wi4Wg8OgnNRKeiRWgJugStRGvRnWgTegw9j15DO9EX\n",
    "      aB8GMDVMHzPHnDBPjIVFY6lYBibBZmNlWAVWizVgrfB/voJ1Yj3YR5yI03EG7gRX\n",
    "      cBiegHPxqfhsfDFehW/Hm/AT+BX8Ad6LfyXQCMYER4I3gU1IJmQSphFKCRWErYT9\n",
    "      hJPwaeoivCMSifpEW6IHfBpTiFnEGcTFxHXERuJRYgfxEbGPRCIZkhxJvqRoEoeU\n",
    "      TyolrSXtJB0hXSZ1kT6Q1chmZBdyCDmVLCIXkyvIO8iHyZfJT8n9FC2KNcWbEk3h\n",
    "      UaZTllK2UFopFyldlH6qNtWW6kuNp2ZR51ErqQ3Uk9S71L/V1NQs1LzUxqsJ1eaq\n",
    "      VartVjuj9kDto7qOuoM6S32iukx9ifo29aPqt9T/ptFoNrQAWiotn7aEVkc7TrtP\n",
    "      +6BB1xipwdbgaczRqNZo0ris8UqTommtydScrFmkWaG5V/OiZo8WRctGi6XF0Zqt\n",
    "      Va11QOuGVp82XXu0drR2rvZi7R3aZ7Wf6ZB0bHSCdXg6JTqbdY7rPKJjdEs6i86l\n",
    "      z6dvoZ+kd+kSdW112bpZuuW6u3TbdXv1dPTG6CXqFepV6x3S69TH9G302fo5+kv1\n",
    "      9+hf1/80zGQYcxh/2KJhDcMuD3tvMNwgwIBvUGbQaHDN4JMhwzDYMNtwuWGz4T0j\n",
    "      3MjBaLzRNKP1RieNeobrDvcZzh1eNnzP8NvGqLGDcazxDOPNxheM+0xMTUJNxCZr\n",
    "      TY6b9JjqmwaYZpmuMj1s2m1GN/MzE5qtMjti9pyhx2AychiVjBOMXnNj8zBzmfkm\n",
    "      83bzfgtbiwSLYotGi3uWVEtPywzLVZZtlr1WZlaRVjOt6q1uW1OsPa0F1musT1u/\n",
    "      t7G1SbJZYNNs88zWwJZtW2Rbb3vXjmbnbzfVrtbuqj3R3tM+236d/SUH1MHNQeBQ\n",
    "      7XDREXV0dxQ6rnPsGEEY4TVCNKJ2xA0ndSemU4FTvdODkfojI0YWj2we+WqU1ajU\n",
    "      UctHnR711dnNOcd5i/Od0Tqjx40uHt06+o2LgwvXpdrlqivNNcR1jmuL6+sxjmP4\n",
    "      Y9aPuelGd4t0W+DW5vbF3cNd4t7g3u1h5ZHmUeNxw1PXM8ZzsecZL4JXoNccr4Ne\n",
    "      H73dvfO993j/5ePkk+2zw+fZWNux/LFbxj7ytfDl+G7y7fRj+KX5bfTr9Df35/jX\n",
    "      +j8MsAzgBWwNeMq0Z2YxdzJfBToHSgL3B75nebNmsY4GYUGhQWVB7cE6wQnBVcH3\n",
    "      QyxCMkPqQ3pD3UJnhB4NI4SFhy0Pu8E2YXPZdezecR7jZo07Ea4eHhdeFf4wwiFC\n",
    "      EtEaiUaOi1wZeTfKOkoU1RwNotnRK6PvxdjGTI35YzxxfMz46vFPYkfHzow9HUeP\n",
    "      mxK3I+5dfGD80vg7CXYJsoS2RM3EiYl1ie+TgpJWJHUmj0qelXw+xShFmNKSSkpN\n",
    "      TN2a2jcheMLqCV0T3SaWTrw+yXZS4aSzk40m50w+NEVzCmfK3jRCWlLajrTPnGhO\n",
    "      LacvnZ1ek97LZXHXcF/wAnireN18X/4K/tMM34wVGc8yfTNXZnYL/AUVgh4hS1gl\n",
    "      fJ0VlrUh6312dPa27IGcpJzGXHJuWu4BkY4oW3QizzSvMK9D7CguFXdO9Z66emqv\n",
    "      JFyyVYpIJ0lb8nXhhv2CzE72i+xBgV9BdcGHaYnT9hZqF4oKL0x3mL5o+tOikKLf\n",
    "      ZuAzuDPaZprPnDfzwSzmrE2zkdnps9vmWM4pmdM1N3Tu9nnUednz/ix2Ll5R/HZ+\n",
    "      0vzWEpOSuSWPfgn9pb5Uo1RSemOBz4INC/GFwoXti1wXrV30tYxXdq7cubyi/PNi\n",
    "      7uJzv47+tfLXgSUZS9qXui9dv4y4TLTs+nL/5dtXaK8oWvFoZeTKplWMVWWr3q6e\n",
    "      svpsxZiKDWuoa2RrOisjKlvWWq1dtvZzlaDqWnVgdWONcc2imvfreOsurw9Y37DB\n",
    "      ZEP5hk8bhRtvbgrd1FRrU1uxmbi5YPOTLYlbTv/m+VvdVqOt5Vu/bBNt69weu/1E\n",
    "      nUdd3Q7jHUvr0XpZfffOiTsv7Qra1dLg1LCpUb+xfDfYLdv9/Pe036/vCd/Tttdz\n",
    "      b8M+6301++n7y5qQpulNvc2C5s6WlJaOA+MOtLX6tO7/Y+Qf2w6aH6w+pHdo6WHq\n",
    "      4ZLDA0eKjvQdFR/tOZZ57FHblLY7x5OPXz0x/kT7yfCTZ06FnDp+mnn6yBnfMwfP\n",
    "      ep89cM7zXPN59/NNF9wu7P/T7c/97e7tTRc9LrZc8rrU2jG24/Bl/8vHrgRdOXWV\n",
    "      ffX8tahrHdcTrt+8MfFG503ezWe3cm69vl1wu//O3LuEu2X3tO5V3De+X/sv+381\n",
    "      drp3HnoQ9ODCw7iHdx5xH714LH38uavkCe1JxVOzp3XPXJ4d7A7pvvR8wvOuF+IX\n",
    "      /T2lL7Vf1ryye7Xvr4C/LvQm93a9lrweeLP4b8O/t70d87atL6bv/rvcd/3vyz4Y\n",
    "      ftj+0fPj6U9Jn572T/tM+lz5xf5L69fwr3cHcgcGxBwJR7EVwOBAMzIAeLMNAFoK\n",
    "      APRLcP8wQXnOUwiiPJsqEPhPWHkWVIg7AA3wJt+us44CsBsOmwDIPReAaHiPDwCo\n",
    "      q+vQUIk0w9VFyaVRDwDJfGDgDdzfUOD4HDow0B8zMPClBiZ7FYDDz5TnS7kQ4dlg\n",
    "      o7McXTbbC36UfwORwX+8eRGJSwAAAAlwSFlzAAAWJQAAFiUBSVIk8AAAAZ1pVFh0\n",
    "      WE1MOmNvbS5hZG9iZS54bXAAAAAAADx4OnhtcG1ldGEgeG1sbnM6eD0iYWRvYmU6\n",
    "      bnM6bWV0YS8iIHg6eG1wdGs9IlhNUCBDb3JlIDUuNC4wIj4KICAgPHJkZjpSREYg\n",
    "      eG1sbnM6cmRmPSJodHRwOi8vd3d3LnczLm9yZy8xOTk5LzAyLzIyLXJkZi1zeW50\n",
    "      YXgtbnMjIj4KICAgICAgPHJkZjpEZXNjcmlwdGlvbiByZGY6YWJvdXQ9IiIKICAg\n",
    "      ICAgICAgICAgeG1sbnM6ZXhpZj0iaHR0cDovL25zLmFkb2JlLmNvbS9leGlmLzEu\n",
    "      MC8iPgogICAgICAgICA8ZXhpZjpQaXhlbFhEaW1lbnNpb24+MjAwPC9leGlmOlBp\n",
    "      eGVsWERpbWVuc2lvbj4KICAgICAgICAgPGV4aWY6UGl4ZWxZRGltZW5zaW9uPjIw\n",
    "      MDwvZXhpZjpQaXhlbFlEaW1lbnNpb24+CiAgICAgIDwvcmRmOkRlc2NyaXB0aW9u\n",
    "      PgogICA8L3JkZjpSREY+CjwveDp4bXBtZXRhPgqb3zcyAAAAHGlET1QAAAACAAAA\n",
    "      AAAAAGQAAAAoAAAAZAAAAGQAABCDaK4GOgAAEE9JREFUeAHsXQfMFNUWPqgoKIpg\n",
    "      A1sERUSqSEBFbEQxKJaAYsGCgkpiw5ZYQhFRUSERMKAGo4I9EqKILdJE1JCIHYMC\n",
    "      FlSwIYgoIt53vvPeue/O7v47s/vvbMbsuclm7tw+39xv75xbzmng2JE5Q8AQKIhA\n",
    "      AyNIQVwssEoIXHfddfTxxx/T6NGj6cgjj6xSrcWr+eeff+iFF16gRYsWkRGkOFYW\n",
    "      myICL7/8MvXt25e6d+9O77zzDjVo0CDF2pIVvWDBArrsssto+fLlksEIkgw3S1Vh\n",
    "      BDZv3kwdOnSglStX0rvvvkvdunWrcA2lF/f888/T+eefT2jboYceSiNGjCDCJ5Y5\n",
    "      Q6DaCNxxxx2Qfd3QoUOrXXXB+r788kvXuHFjadMJJ5zgmCSSzkaQ0v9oLEc9Efjq\n",
    "      q6+oXbt2xB1SPmV22223epZY/+z9+/enmTNnUvPmzWnFihW06667SqFGkPpjayWU\n",
    "      iMCZZ55Js2bNoilTptAVV1xRNPf3338v8smaNWuEVF27dqVddtklLw8E6x9//FHC\n",
    "      99xzTy/PrF69mubPn0/bbrstHXPMMbTPPvvk5UXZe++9N76maOzYsXTLLbf8P03B\n",
    "      8cYCDYGUEGDBXD5juKO7rVu31lnLli1b3OWXX+4aNmwo6bnHyrVJkybu6aefzsvH\n",
    "      RPLpmCjujz/+cMOGDYvk33777d3kyZPz8j700EM+7wcffBCJNxkkAofdpInAn3/+\n",
    "      6Q466CDHs1Vu8eLFRasCOUCKpk2buhtuuME98MADbtCgQb4jz5gxI5I/JMiqVasc\n",
    "      C/2SlkcG169fP7fHHnv4vC+++GIkLwvmErfddtt52UMTGEEUCbumjoAK5oMHDy5a\n",
    "      17hx46TDtmjRwrG8Ekk7cuRIiQPRMMqoCwnSp08fScNrLA6khEN869atJZxnqDSb\n",
    "      XCGUg4zt27ePhOPGCJIHiQWkgYDOErHw69auXVtnFb/99ptjeUE67DPPPJOXjtcn\n",
    "      JA4des6cOT4+JAjiLrroIh+nnvBTKmwDiIE8AwcO1KT+agTxUJgnTQRYMJdOOHHi\n",
    "      xKLVvP7665IOn1Y61Zqb4ZBDDpE0kyZN8lEhQQ4//HCRQXzk/zyffPKJ5AMZeGHS\n",
    "      R3fp0kXCzz33XB+mHiOIImHX1BBQwbxTp07u77//LlrPqFGjpLPuuOOODukL/SCo\n",
    "      o5PfeOONvqyQIMuWLfPhoQfCO/Lhhzap00+ynj17apC/2jQvo2UuPQSwKt2xY0f6\n",
    "      /PPPaeHChdSrV6+ilekUcLNmzWj//fcvmpaFbxozZoykwVRty5YtxY/p3t133z0v\n",
    "      74cffkidO3eW8KVLlxKPHOIfMmQITZs2TaZ6v/3222g+TxXzGAIpIKCCOWagkjju\n",
    "      rPIPzxsXkyT3acIRBCNFIcdbSaRsyDjr1q3zSSDrMCvkF356IYF9YnmYzFNpBCCY\n",
    "      41OJF/bcd999l6h4yCjorFiz0BmoJBmTEETloBNPPDFS5IYNG6Q+1HvppZdG4owg\n",
    "      ETjsppIIaIccP3584mIxu4T1CHTWhx9+OHG+OILMmzdPysQaTCh/aAVXXnmlxO+0\n",
    "      004uXCw0gihCdq0oAiqYYwo1XK9IUomOIlhFf+211/Ky/Prrrw6ke+qpp3xcMYI8\n",
    "      +eSTDh0fpLvzzjt9ntCDMvfaay9Jw1tV3GeffSbRRpAQJfNXBAF8GrVp00Y629y5\n",
    "      c8sqEzNU6NDbbLONw7Qt7q+55hp30kkn+c5+7733+rJDgvB+K3fccce5U045xWGx\n",
    "      EeXgV2ga1xfAniVLljiQA2mxXjNgwACTQUKAzF8ZBFQwL7TwlrQG3nzobr75Zrfz\n",
    "      zjv7Dq4dvW3btg51hHJNSBBNp1eeDZMRJ4lMwzt5HT4NQUzkt2leRsFc5RDArlpe\n",
    "      y6BNmzbR8OHDC+6eLaU2FqDp/fffJyYA8WhAvF2E9ttvv7wiwmlenhwg7uC0ceNG\n",
    "      mbrlRce89HEBvJ+LeL+YHbmNA8ri/x0IhASpax2knCexEaQc1CxP5hAwgmTulViD\n",
    "      soSAESRLb8PakjkEjCCZeyXWoCwhgMmBn3/+WZqEfViVUiFkMkiW3rK1JXMIGEEy\n",
    "      90qsQVlCwAiSpbdhbckcAkaQzL0Sa1CWEDCCZOltWFsyh4ARJHOvxBqUJQSMIFl6\n",
    "      G9aWzCFgBMncK7EGhQhgsyI0wMOxNhNq1KhRGJ263wiSOsRWQX0QuOuuu7yu3Cee\n",
    "      eILOO++8+hRXcl4jSMmQWYZqInDEEUeI/RDUedZZZ9Gzzz5bzeptu3tV0bbKSkIA\n",
    "      Z0CgjZ0PWUk+PjxFP/30E7FCh5LKqU9iG0Hqg57lTRUBVtog5tCwtwrEgOOz7nTy\n",
    "      ySenWm9YuBEkRMP8mULg1FNPpZdeeomuv/56YgUNxEdsibW+09SpU/PaWa59ENai\n",
    "      ImWxwoZImQjHqURT2pD0kLSlqxcCUAcKfVQTJkxIVA4fl3U8YyXnwl955RXRV8U9\n",
    "      2MGcAc6r57rwTDoUxyW1D8Kjk9TBGhV9kWx1V8JQnxHEw2KeNBGAxkJ0OGhOTOJU\n",
    "      CyKUzkGJ9ezZs32nZaOfeUWEBCnFPghbnZJy33jjDV/m/fff7+sygnhYzJMmAqUS\n",
    "      5MILL5ROqppRoJFENZywibS8poYEUWXUSeyDsAk4qQcGetSddtppfvQygigqdk0V\n",
    "      gVIIAg3wbNhTOi6UvqkDWTAK5RrAQXxIEKRJah9ER4urrrpKqkHdGLWgQ2uHHXaw\n",
    "      TywF367pIlAKQRYsWCBEgGZFaDxUB9uEIhcwAVhbvAbLNSRIKfZB1B6J6uvVdsL2\n",
    "      yFFHHWV6sRhwcxVGgHXbEs6Ih45VedK1114rU7S45rrevXsT6+SVYMxasTBP3GmJ\n",
    "      VY/6pGx9itjWIMGkwn333SezWxoZnknnCQHZlqJxesVUMfLD6XQxZsaw1gJdW19/\n",
    "      /TWxalK69dZb6aOPPhJLvPaJFfkfsptKIMAr3v6fnvtiIv/69et91QceeKDkCeUC\n",
    "      jYQ6UZR59NFHa5BcwxGkLvMHUEqt7WH7ID4/rFlBqTVmzmCvEOpHMVOGNLYOwoiZ\n",
    "      qywCjz/+OMFYTejwT421jA4dOhAL0WGU+FmVqGxEZDNpkgaBbKiTWOl0JC1GCl2j\n",
    "      gF9HhHAEqUtx3MyZM6l///5iMx2jCevflbLZFonYYn/rrbcII9npp59O/Dn333o9\n",
    "      jcxjCKSIgH7bx03zjh071v/Lcw8t6n/kkUd8i5OMIGqOQeUNzXzJJZdIPRDUUeeD\n",
    "      Dz6oUSakeyTMkyoCSQnSo0cP6aS33367fObgUyf3d9hhh0kaTMeqiyNIMfsg0BIP\n",
    "      Yqj5g3ACwGQQRdiuqSKQhCDQ1g5ZAJ01NGKT27DRo0dLmsaNG7vff/9doosRJM4+\n",
    "      CG9nkfJQLwvrkeqMIBE47CYtBJIQBJ826KStWrUq2gzW9u479KxZsyRtSJBS7YNg\n",
    "      5R314pe7fmIEKfoqLLJSCCQhSN++faWTwlBOnDvggAMk7cUXXyxJQ4JoZ9drnH0Q\n",
    "      fMLBliLSP/bYY5GqbRaLUTH370cgnMWqhH0QRcQIokjY9V+NQEiQuqZ5y3lAI0g5\n",
    "      qFmezCFgBMncK7EGZQkBI0iW3oa1JXMIGEEy90qsQVlCgGeizD5Ill6ItaU2EDAh\n",
    "      vTbesz1lmQgYQcoEzrLVBgJGkNp4z/aUZSJgBCkTOMtWGwgYQWrjPdtTlomAEaRM\n",
    "      4CxbbSBgBKmN95zZp2TdVcSaDInPeBCOvuIo7OrVq317Ye+cz4xTy5YtidXw+PBK\n",
    "      emBf/ZtvvpGjuB07dowWHdnbazeGQBURmDNnjmwx7969u1cnqnqquJdKXHjFtnWc\n",
    "      NGQSVbSVU6ZMkbr4/HteuXYeJA8SC6gGAtCUyEoZHCuIdkuWLPFVKkHYxIEbNGiQ\n",
    "      Y4M5DpoSDz74YE8YtjTleGuJz1NfjxGkvgha/oojwFpMpMMPHTo0UrYSpFmzZpFw\n",
    "      3MyfP9+rH2XtI3nx5QYYQcpFzvKlggAfaHI4T968efO8z6ViBEFj2GaIH0nefPPN\n",
    "      irSvLoJ88cUXptWkIghbISUhcMYZZ0gnR8fMdXEEQfpjjz1W8kM5dV0Ox2gXLVrk\n",
    "      pk2b5qC0gTU7ejknN08hguATULSn5Ca2e0MgTQRY5ad07q5du7qtW7fmVZWEIKqm\n",
    "      p1+/fnn5EbBw4ULXtm1bP9KooM+WqfJGLKQvRBDV+m5COhAyVxUEVDCHap/FixcX\n",
    "      rDMJQV599VXp/CBBrvv0008da0yUeKgRhcGeMWPGiKYUEKVdu3YOGtxDl0sQtqYr\n",
    "      +U27e4iS+VNHQAXzwYMH11lXEoLAgA46O2a6ws6OmS3VdpJrQ+SXX37xxHn00Ucj\n",
    "      9YcEgSWsJk2aSPnQDWwjSAQqu0kLARXM8e/OunXrrCYJQVh/r3RgkGTFihW+rJtu\n",
    "      uknCebEvQhxNgClj5MG6S+iUIFD906VLF0mDNReQzwgSImX+1BBQvbgTJ04sWkcS\n",
    "      grz33nueIGyywJfXs2dPCb/77rt9WOhR+yIwzhM6JQgWCvFJBhLhx2YQjCAhUOZP\n",
    "      BwEVzDt16lTwnz2sNQlBIISjA+NTCLNVcJBvRGbg8NatWzvUlfvDwqR2flVZirwh\n",
    "      QXB/9tlnSzpRg4oAc4ZAWgig47Zp00Y6HDp2nEtCkOnTp0t53bp188WF6kghiHfu\n",
    "      3Lnoj/d7+by5BGFDPSLMC5l8KvMYAikgoII5to0kcUkIgvUPdN4LLrjAF4kOr6MD\n",
    "      ZrlKcbkEQV4I62I0tJSCLK0hUAoCEMwh+MIoJjS3J3FxBEE5KA9kuOeee3yRWFNR\n",
    "      m+cjR4704Uk8hQiCfM8995zJIEkAtDTlIaCC+fjx4xMXEEcQlQ8gUOfOhl199dVC\n",
    "      HGxm3LBhQ+I66yIICrBZrMQwWsJSEFDBvH379m7Lli2JsypBMB0MARx58fkEy7fn\n",
    "      nHOO/4zCtvdcB9uEuusXVqT++uuv3CSy/UQ1wmukEUSRsGtVEAgF87lz55ZUpxJE\n",
    "      5YlCV5hM09mr3MJXrlzpLUVhOhcjzogRI2TbPOyro7zccx9GkFwU7T5VBFQwHzhw\n",
    "      YMn1FCIItr6z8U83YMAAGUniCsU6CRYDc8nVqFEjBwu8s2fPjhRRjCB25JZRNFc5\n",
    "      BPifnUaNGkWbNm2i4cOHiw3yypVeWkmwzb58+XKIEcRWq4jNS+dZzY0r0QgSh5DF\n",
    "      1zQCRpCafv328HEIGEHiELL4mkbACFLTr98ePg4BI0gcQhZf0wgYQWr69dvDxyFg\n",
    "      BIlDyOJrGgEjSE2/fnv4OASMIHEIWXxNI2AEqenXbw8fh4ARJA4hi69pBIwgNf36\n",
    "      7eHjEDCCxCFk8akiENoHadGiBa1fv76k+vgUIe27776RPLzdnt5++23iM/DEKoKI\n",
    "      VYhSr169qEePHtSwYcNI2lWrVhWvM7Lv124MgSoikGsfRHX2cg/O26peV9iwYcMi\n",
    "      LYbtEGgzKZQeh6h4l3EkfVydNoJE/k/sploIbN68mfiMB/EBJ2JNicQaSmR7/Lx5\n",
    "      8yJN2LhxI7FyOAljbSXE2hQj8Xy+g1h/lYStW7eO2CwCLV26lFj1D912223E50KI\n",
    "      TyOKBasffviBjj/+eOLzIMRn5SUPtuQXq/M/AAAA//8skIDUAAAO2UlEQVTtXXns\n",
    "      FEUT7Z+ggAfgCVFRBBENIocgoqiIEi6jGBU1ICoCgYAoiqL+YfA2IKACCiEkHEaN\n",
    "      mhg1HhHExAPlijcCGo6g4IEKSLy1v3qlPendnendhdnfN7Cvk83sdtV0976ttzPV\n",
    "      011lLAsR+D8gcO+991pjjB02bFiw97ffflv1oLt+/fqg7rhx41T38MMPt1988UWO\n",
    "      7rJly+z++++v8mnTpuXI8j/4fZp8IT8TgUojsGHDBtugQQN7yCGH2K1btwa78401\n",
    "      RJDff//dghgg0qOPPhrb5q233qrytm3bxspdpd8nCeJQ4bHWEOjfv78a6uOPP160\n",
    "      T99YQwR55plntM06derYb7/9NrbdDz/8UHVAoiVLlsTqoNLvkwRJhImCSiDw6quv\n",
    "      qpF27NjR/v3330W78I01RJBRo0Zpu2eddVawzeOOO071Jk6cmKjn90mCJMJEQdoI\n",
    "      /Pbbb/b444+3NTU1wX9wv1/fWEMEueiii9Twr7zySv/0gvcgEK4gN954Y4HMVfh9\n",
    "      kiAOFR4rjoBzzK+99tqS+/KNNUSQTp06qeHfcMMNwbYvueQS1RswYECint8nCZII\n",
    "      EwVpIuAc88aNGyf6CHH9+cYaIkizZs3U8EHCUBkxYoTqdevWLVHN75MESYSJgjQR\n",
    "      uPjii9Uwk2aYkvryjTVEkM6dO2v7EyZMSGpK64cOHap63bt3T9Tz+yRBEmGiIC0E\n",
    "      nGN+yimn2L/++qusZn1jDREEvgd8CzjroeJ8lYEDByaq+X2SIIkwUZAGAnDMW7Vq\n",
    "      pcb71ltvld2kb6whgtx5553ax2WXXRbso2vXrqo3fvz4RD2/TxIkESYK0kDAOeaD\n",
    "      Bg3apeZ8Yw0RZMGCBWr4HTp0SOwH08pNmjRRvdCtnt8nCZIIJwW7iwAccyzvaNiw\n",
    "      od28efMuNecba4ggy5cvV8PHbVb+MhPX8Ztvvqk6mGZes2aNqy44+n2SIAXwsCIt\n",
    "      BJxjPnny5F1u0jfWEEH++ecf27p1ayUAbrfiypAhQ1Tet2/fOHFU5/dJgkSw8E2a\n",
    "      CDjHvE2bNvbPP//c5aZ9Yw0RBB1Mnz5dCbDffvtZXC388vTTT+sDSlxhXn/9dV9U\n",
    "      8N7vkwQpgIcVu4uA75gvXrx4t5rzjbUYQeBj9OzZU0mC27oxY8bYJ554QlcM16tX\n",
    "      T+v79etXdDx+nyRIUbioUC4CzjG//PLLyz21QN831mIEwcnbtm2zeNYBPwNXC/eq\n",
    "      W7euve666yxW/RYrfp81UJZGWIhAKgiIL2DkYZ355ZdfzNixY81RRx2VSrvlNrJx\n",
    "      40Yj08rm/vvvN6tXrzaLFi0y5513XrnNGBKkbMh4wp6EwPvvv2/OPPNM06VLFyO3\n",
    "      e6Z+/fplDZ8EKQsuKu+JCMjTdfPYY48pSXB16927d8lfgwQpGSoq7qkI7Ny504j/\n",
    "      YWRTlX6Fgw46yMjiRnPVVVeZ2267Lfi1SJAgPBTuTQjMnj3bzJw503z00UdGZrzM\n",
    "      4MGDzbx584JfkQQJwkPh3ooAriqYn8LVJFRIkBA6lFU9AiRI1ZsAAQghQIKE0KGs\n",
    "      6hEgQareBAhACAESJIQOZVWPAAlS9SZAAEIIkCAhdCiregRIkKo3gWwDsGXLFvPe\n",
    "      e++ZpUuXGtkpaJo3b25OOOEEc9JJJ5lzzjmn4oMnQSoOMTvYVQTmzJljRo4caWTD\n",
    "      VUETBx54oPn5558L6tOuIEHSRpTt7TYCeMItkdjNQw89ZGR3oMFiw/PPP9+ceOKJ\n",
    "      ZtOmTeadd94xzz//vFmxYsVu91WsARKkGEKU1zoCzz77rJHQoEY2OekCQ9nbXutj\n",
    "      cB2SIA4JHjODgITuMZKqwDzwwANFV9tWetAkSKURZvtlIfDyyy+bCy64wMgecvP1\n",
    "      11+bQw89tKTzZautke20qnvEEUcY2XJbcN4ff/xhfvrpJ61Hu7hCxRXsikTfErZI\n",
    "      Nu2yEIFaQODzzz/XgApTpkwJ9oZ942K09oorrgjq5QtffPHFaB/6XXfdlS/Wzy4M\n",
    "      0RlnnJEYaQVJfY499thoLzsJEgslK9NGQLa+qtEhoEKoiDOuelOnTo3UEK1Epnot\n",
    "      QpeGgi7I5ic9d5999rGvvfZadD7eoD0Q77DDDrPi6OfI3AfZv6460JPpZIugEySI\n",
    "      Q4fHiiJQKkGQYAcGKo663bFjh0UuEbkdigwXkRovvPBC+8MPPxSMF4Gxzz33XNXF\n",
    "      ORK4QXXQ97777qtXmFdeeaXgPFS88MILKkf0k0mTJkU6JEgEBd9UEoFSCILoiAj6\n",
    "      BoIg8Nzpp5+u72H0d9xxh0ZuP+aYY7Suffv2sQlAv/nmG3vkkUeqDlIiIOSpu2W6\n",
    "      /fbbY78iwgnJxik9J/8WkASJhYyVaSNQCkEQgdHFszr66KP1vTwszBmKONkRcZAt\n",
    "      Kq4grhWuBCAaMuniePbZZyemXpBADqqD/IX5t3CcxRL0WNJFAHu+5Z88p1HEppK8\n",
    "      gBpRBMf8gphVmFVq2rSpkSy1Kr766qvN3Llz81V16Yk42jrD9f3338fOWMmVwNx8\n",
    "      8816rqSH1mljubIUtIUKN618/fXXG4n6nqsTx0DWEYHdQQA5OsTKynpt375du0T2\n",
    "      W3euPDGPHQacdhdKdNWqVbE6fnTEAw44wH722Wexeqhs1KiR9vnII48U6PAKkvt/\n",
    "      wU8pIDB//nzz8ccf57QkvoB56qmnzMknn2x69eqVI8MHCVeqQd0kA5SRKVuVf/fd\n",
    "      dwb//nHl4IMPNnj2geiJkrk2R2Xr1q16Vfjqq6+0TYkVrIsbly1bZrCGyy94NoJn\n",
    "      LigS4NrIzJUvFpqzEIFaQKAUHwTDwHMIsVB9ffrpp7EjQ/4PpyNkyNGBo9+nTx+V\n",
    "      I+XzypUrbYMGDfRzUopoBLpGew8//HBOW/hAghRAwopKIFAqQRB8GlO5SQaLsTkS\n",
    "      tWzZsmCoDz74oJ6L5x1yBVE5HH1HKImwWHBOu3btVI7p4/xCguQjws8VQaBUgqDz\n",
    "      a665Rg1WbqPsl19+mTMeZJKCTwGDf+6553JkbvYKM2GyZCVH5trENDLa8IusHNb2\n",
    "      8IART+RR4OfIamJeQXyg+L5yCJRDkB9//NE6Zx0O9D333GMlbKgdPXp0NG2LZSN+\n",
    "      kdksi6lhEOeWW27xRfpeos1bZNmFHE/J0YcrmDp208EgCfp2uQx5BXEo8VhRBMoh\n",
    "      CAaCJ+WnnXaaGrS7PcIRBoy1VviHd8X3O/BwURxvJ8o5rl27NnogKAsiLc5z5ZNP\n",
    "      PrGyUzHqr06dOhY+C2exBHWW7CKAPB9y62Tkabdp27atkafjFcs5IktV9HkJtvnK\n",
    "      VUT7IUGyaxscWQYQIEEy8CNwCNlFgATJ7m/DkWUAARIkAz8Ch5BdBEiQ7P42HFkG\n",
    "      ECBBMvAjcAjZRYAEye5vw5FlAAESJAM/AoeQXQRIkOz+NhxZBhAgQTLwI3AI2UWA\n",
    "      BMnub8ORZQABEiQDPwKHkF0ESJDs/jZVMbKbbrrJyM5BIyt0TdeuXRO/s6y61W28\n",
    "      OCI/iGyqStRNEqCfHj16qBjbeUsqbrkvj0SgthFAEDcxUl3W7i89jxsHtsNCF693\n",
    "      3303TqVo3QcffBC1UVT5PwVeQUr6G6FS2ggg0DQCOKxbt06zR3Xq1CmxC4QMwvLz\n",
    "      X3/9VXWEIAZhf8otiBiPED8oYv+lnV4qk6hHBNJEQKKY6L/5sGHDgs0imBwiJMKm\n",
    "      3as2ryDcURj8eSisBAKSVkAjjWCba35Ukvz+7r77biVGt27dolhYJEg+Svy8VyHQ\n",
    "      v39/NXpEJwkVhOxB0GkEaUDwBhe+Z8mSJaHTIpncklkEllu8eLGVdG32pZdeiq5C\n",
    "      TgmxfPHKL6gTR55BG/KB4efKIoCg1LhVQmAEf195fq8S7M22adNGdadPn67iUgkC\n",
    "      45bkn7Z+/foRIdztmTu6/hAeCHWSMMdVWcTjcnq8xYpg4ZtKIwCjR3oDhOUpdhUY\n",
    "      N26cGqnE7I2CK5RCEEQvOfXUU/VcBLAW59/Cz7n00kutpI6ODN99VwS1BhneeOMN\n",
    "      V2URgpQEieDgm9pCwDnmyPkRKkiUg+gliHjocnxAvxSCIDMVjBspD/LjX8VN844Y\n",
    "      MUL1Z8yYEQ0JAeSiq09UyzdEoIIIOMe8cePGVqK3J/Ykuc9tixYt1GjzUx8UI4h7\n",
    "      VgLj9onlOosjiLtaSGR3VUMSHhATIX80QLY7mUciUEkEXH5ASS8Q7Gb48OFKjn79\n",
    "      +hXoFSOIy041fvz4gnNREUeQhQsXan89e/bUc1z8rmnTplnkMqQPEgslK9NEwDnm\n",
    "      iGyIf+ik4p6sY/oXmaHyS4ggvmO9dOnS/FP1cxxB4JzjlqxZs2aqc9999+lnBJJD\n",
    "      REcSJBZKVqaFABzzVq1aqdHBtwgVN/2LWxtJe1Dwco4zYvY6uQsz6k/hxuUvRL9x\n",
    "      BEE9wpti4mDnzp1W1mpZSSOtEwOqDwUWIlApBJxjPmjQoKJdSEYpNU4YaNzLJ4iT\n",
    "      I/A0iovgjpmrpILA1K4NX8flQsQDSPgvyG7rCq8gDgkeU0cAjjlSGcDpjbtlKrfD\n",
    "      0C2Wb/xxT+dxKyXp3WIJMmTIEK2How4CzZo1KxoaCRJBwTdpI+Ac88mTJ6fSdIgg\n",
    "      8Bnc1QGR4P2CxJzuKuF0fDnSPqPeRXRHgh5XSBCHBI+pIuAcczwNx4LDNEqIIIjo\n",
    "      jrQGMPTWrVtHy0ckELXFjBjqBwwYEJHIHw9yiTjiOGfdyUkQhwSPqSHgO+ZYB5VW\n",
    "      CREEfTz55JORoeO2DquAXbLPgQMHajo2RwR/TMiT7urhB/mFBPHR4PtUEHCOue/s\n",
    "      ptFwMYKgDyyAdKSA0WO2y2WvTZrFwmYtl/Zt3rx5OUPlhilBkSU9BMTYzIQJE4ys\n",
    "      iTJjx46tWC6P0IiR/VaehWj22i5duhghVkg9KCNBgvBQWO0IkCDVbgH8/kEESJAg\n",
    "      PBRWOwIkSLVbAL9/EAESJAgPhdWOAAlS7RbA7x9EgAQJwkNhtSNQ8986+mrHgd+f\n",
    "      CMQiQILEwsJKIvAvAjUa+4doEAEiEIsACRILCyuJwL8I1GCZMMEgAkQgHgESJB4X\n",
    "      1hIBRYAEoSEQgQACJEgAHIqIAAlCGyACAQRIkAA4FBEBEoQ2QAQCCJAgAXAoIgL/\n",
    "      A4D9TJDj+WNSAAAAAElFTkSuQmCC'"
   ]
  },
  {
   "cell_type": "code",
   "execution_count": 32,
   "metadata": {},
   "outputs": [
    {
     "ename": "NameError",
     "evalue": "name 'somebytes' is not defined",
     "output_type": "error",
     "traceback": [
      "\u001b[0;31m---------------------------------------------------------------------------\u001b[0m",
      "\u001b[0;31mNameError\u001b[0m                                 Traceback (most recent call last)",
      "\u001b[0;32m<ipython-input-32-3f76607d808d>\u001b[0m in \u001b[0;36m<module>\u001b[0;34m\u001b[0m\n\u001b[0;32m----> 1\u001b[0;31m \u001b[0msomebytes\u001b[0m\u001b[0;34m\u001b[0m\u001b[0m\n\u001b[0m",
      "\u001b[0;31mNameError\u001b[0m: name 'somebytes' is not defined"
     ]
    }
   ],
   "source": [
    "somebytes"
   ]
  },
  {
   "cell_type": "code",
   "execution_count": 35,
   "metadata": {},
   "outputs": [],
   "source": [
    "import base64\n",
    "\n",
    "with open(\"tiny.jpg\", \"rb\") as image_file:\n",
    "    encoded_string = base64.b64encode(image_file.read())"
   ]
  },
  {
   "cell_type": "code",
   "execution_count": 37,
   "metadata": {},
   "outputs": [],
   "source": [
    "imgdata = base64.b64decode(encoded_string)"
   ]
  },
  {
   "cell_type": "code",
   "execution_count": 40,
   "metadata": {},
   "outputs": [],
   "source": [
    "filename = 'some_image.jpg'  # I assume you have a way of picking unique filenames\n",
    "with open(filename, 'wb') as f:\n",
    "    f.write(imgdata)"
   ]
  },
  {
   "cell_type": "code",
   "execution_count": 41,
   "metadata": {},
   "outputs": [
    {
     "data": {
      "image/png": "[encoded data removed]",
      "text/plain": [
       "<Figure size 432x288 with 1 Axes>"
      ]
     },
     "metadata": {
      "needs_background": "light"
     },
     "output_type": "display_data"
    }
   ],
   "source": [
    "import matplotlib.pyplot as plt\n",
    "import matplotlib.image as mpimg\n",
    "img=mpimg.imread('some_image.jpg')\n",
    "imgplot = plt.imshow(img)\n",
    "plt.show()"
   ]
  },
  {
   "cell_type": "code",
   "execution_count": 44,
   "metadata": {},
   "outputs": [
    {
     "ename": "TypeError",
     "evalue": "'bytes' object is not callable",
     "output_type": "error",
     "traceback": [
      "\u001b[0;31m---------------------------------------------------------------------------\u001b[0m",
      "\u001b[0;31mTypeError\u001b[0m                                 Traceback (most recent call last)",
      "\u001b[0;32m<ipython-input-44-52682119d6e2>\u001b[0m in \u001b[0;36m<module>\u001b[0;34m\u001b[0m\n\u001b[0;32m----> 1\u001b[0;31m \u001b[0mstr\u001b[0m\u001b[0;34m(\u001b[0m\u001b[0mencoded_string\u001b[0m\u001b[0;34m)\u001b[0m\u001b[0;34m\u001b[0m\u001b[0m\n\u001b[0m",
      "\u001b[0;31mTypeError\u001b[0m: 'bytes' object is not callable"
     ]
    }
   ],
   "source": []
  },
  {
   "cell_type": "code",
   "execution_count": null,
   "metadata": {},
   "outputs": [],
   "source": []
  }
 ],
 "metadata": {
  "kernelspec": {
   "display_name": "Python 3",
   "language": "python",
   "name": "python3"
  },
  "language_info": {
   "codemirror_mode": {
    "name": "ipython",
    "version": 3
   },
   "file_extension": ".py",
   "mimetype": "text/x-python",
   "name": "python",
   "nbconvert_exporter": "python",
   "pygments_lexer": "ipython3",
   "version": "3.5.3"
  }
 },
 "nbformat": 4,
 "nbformat_minor": 4
}
